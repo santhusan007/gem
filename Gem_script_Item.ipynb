{
 "cells": [
  {
   "cell_type": "code",
   "execution_count": 1,
   "id": "4294443b",
   "metadata": {},
   "outputs": [],
   "source": [
    "import requests\n",
    "import pandas as pd\n",
    "from bs4 import BeautifulSoup\n",
    "import time\n",
    "from selenium import webdriver\n",
    "from selenium.webdriver.edge.service import Service\n",
    "from selenium.webdriver.common.keys import Keys\n",
    "from selenium.webdriver.common.by import By\n",
    "import os\n",
    "from os import path\n",
    "import shutil\n",
    "import tabula\n",
    "import glob\n",
    "import pikepdf\n",
    "from selenium.webdriver.support.select import Select\n",
    "from pdfminer.converter import TextConverter\n",
    "from pdfminer.pdfinterp import PDFPageInterpreter\n",
    "from pdfminer.pdfinterp import PDFResourceManager\n",
    "from pdfminer.pdfpage import PDFPage\n",
    "import io\n",
    "import re\n"
   ]
  },
  {
   "cell_type": "code",
   "execution_count": 2,
   "id": "09330b83",
   "metadata": {},
   "outputs": [],
   "source": [
    "mylist = '''CONTACT\n",
    "TERMINAL \n",
    "PARALLEL CONNECTOR\n",
    "COPPER NGR\n",
    "COPPER HVTG\n",
    "COPPER CONECTIONS\n",
    "CASTING\n",
    "DRILL\n",
    "END MILL\n",
    "SAW\n",
    "HSS SLITTING SAW\n",
    "HSS\n",
    "PRESS BOARD\n",
    "ARALDITE\n",
    "Cotton Tape Electical purpose\n",
    "INSULAT\n",
    "VARNISH\n",
    "'''\n",
    "mylist = mylist.replace('\\n', ',')\n",
    "mylist = mylist.split(',')\n"
   ]
  },
  {
   "cell_type": "code",
   "execution_count": 53,
   "id": "2b915d12",
   "metadata": {},
   "outputs": [],
   "source": [
    "def latestDownload(src):\n",
    "    \"\"\" sorting the file according to the time its being made and returing the \n",
    "    latest downloaded file in the directory\"\"\"\n",
    "    path = src\n",
    "    os.chdir(path)\n",
    "    files = sorted(os.listdir(os.getcwd()), key=os.path.getmtime)\n",
    "    newest = files[-1]\n",
    "\n",
    "    return newest\n"
   ]
  },
  {
   "cell_type": "markdown",
   "id": "8b7ecef4",
   "metadata": {},
   "source": [
    "### Script to move file from destination to source gem folder"
   ]
  },
  {
   "cell_type": "code",
   "execution_count": 50,
   "id": "5b46a7b1",
   "metadata": {},
   "outputs": [],
   "source": [
    "def move_file(src, dst,keyword=\"GEM\"):\n",
    "    \"\"\"find the latest files which start with the name GEM in the source downoad \n",
    "    folder and move it to the destination folder where the data extraation and downloaidng\n",
    "    the link happens . Please the source , destination , key word of the\n",
    "     file starting to take the action\n",
    "    \"\"\"\n",
    "    files = [i for i in os.listdir(src) if i.startswith(\n",
    "        keyword) and path.isfile(path.join(src, i))]\n",
    "    for f in files:\n",
    "        shutil.move(os.path.join(src, f), os.path.join(dst, f))\n",
    "    return files\n"
   ]
  },
  {
   "cell_type": "markdown",
   "id": "cfc163cb",
   "metadata": {},
   "source": [
    "### Script to download the respective file fron GEM website using selenium"
   ]
  },
  {
   "cell_type": "code",
   "execution_count": 5,
   "id": "9078fb5a",
   "metadata": {},
   "outputs": [],
   "source": [
    "def get_driver():\n",
    "    \"\"\" function to get the selenium edge driver\"\"\"\n",
    "    ser = Service(executable_path='C:\\\\edgedriver_win64\\\\msedgedriver.exe')\n",
    "    driver = webdriver.Edge(service=ser)\n",
    "    driver.maximize_window()\n",
    "    return driver\n"
   ]
  },
  {
   "cell_type": "code",
   "execution_count": 56,
   "id": "1ebaa115",
   "metadata": {},
   "outputs": [],
   "source": [
    "def itemwise_download(url,items,src):\n",
    "    \"\"\" \"\"\"\n",
    "    driver=get_driver()\n",
    "    driver.get(url)\n",
    "    driver.find_element(By.XPATH,'//*[@id=\"search_concept\"]').click()\n",
    "    time.sleep(1)                    \n",
    "    driver.find_element(By.XPATH,'//*[@id=\"exTab2\"]/div[1]/div[2]/form/div/div/ul/li[2]/a').click()\n",
    "    time.sleep(1)\n",
    "    \n",
    "    for item in items:\n",
    "        Searchbox = driver.find_element(By.XPATH,('//*[@id=\"search_by\"]'))\n",
    "        Searchbox.clear()    \n",
    "        Searchbox.send_keys(item)\n",
    "        driver.find_element(By.XPATH,'//*[@id=\"exTab2\"]/div[1]/div[2]/form/div/span/button/span').click()\n",
    "    \n",
    "        linklist=[]\n",
    "        for j in range(1,10):\n",
    "            try:\n",
    "                # Extracting the text from the link element\n",
    "                link=driver.find_element(By.XPATH,f'//*[@id=\"pagi_content\"]/div[{j}]/div[1]/p[1]/a').text\n",
    "                linklist.append(link)\n",
    "            \n",
    "            except Exception as e  :\n",
    "                print ( \"error\",str(e))\n",
    "                pass\n",
    "        \n",
    "        if (len(linklist))>0:\n",
    "            \n",
    "            for k in range(1,len(linklist)+1):\n",
    "\n",
    "                # Extracting the text from the link element\n",
    "                link=driver.find_element(By.XPATH,f'//*[@id=\"pagi_content\"]/div[{k}]/div[1]/p[1]/a').text\n",
    "                link=link.replace(\"/\",\"\")\n",
    "                link=f'{link}.pdf'\n",
    "                # click on the link and download the file to destination.\n",
    "                driver.find_element(By.XPATH,f'//*[@id=\"pagi_content\"]/div[{k}]/div[1]/p[1]/a').click()\n",
    "\n",
    "                time.sleep(2) \n",
    "                #identifying the latest downloaded file in source directory\n",
    "                file=latestDownload(src)\n",
    "                           \n",
    "                if file.startswith(\"GeM\") and path.isfile(path.join(src, file)):\n",
    "                    os.rename(file,link)\n",
    "                    move_file(src,dst)\n",
    "                                \n",
    "\n",
    "        else:\n",
    "                continue\n",
    "\n",
    "        time.sleep(2)\n",
    "\n",
    "    \n",
    "    return link\n",
    "    \n",
    "    "
   ]
  },
  {
   "cell_type": "markdown",
   "id": "503c44bf",
   "metadata": {},
   "source": [
    "### script to extract text from pdf"
   ]
  },
  {
   "cell_type": "code",
   "execution_count": 7,
   "id": "34d0ff20",
   "metadata": {},
   "outputs": [],
   "source": [
    "def extract_text_by_page(pdf_path):\n",
    "    with open(pdf_path, 'rb') as fh:\n",
    "        for page in PDFPage.get_pages(fh,\n",
    "                                      caching=True,\n",
    "                                      check_extractable=True):\n",
    "            resource_manager = PDFResourceManager()\n",
    "            fake_file_handle = io.StringIO()\n",
    "            converter = TextConverter(resource_manager, fake_file_handle)\n",
    "            page_interpreter = PDFPageInterpreter(resource_manager, converter)\n",
    "            page_interpreter.process_page(page)\n",
    "\n",
    "            text = fake_file_handle.getvalue()\n",
    "            yield text\n",
    "\n",
    "            # close open handles\n",
    "            converter.close()\n",
    "            fake_file_handle.close()\n",
    "\n",
    "\n",
    "def extract_text(pdf_path):\n",
    "    tot = {}\n",
    "    for i, page in enumerate(extract_text_by_page(pdf_path)):\n",
    "        tot.update({i+1: page})\n",
    "    return tot\n"
   ]
  },
  {
   "cell_type": "markdown",
   "id": "fa5cf550",
   "metadata": {},
   "source": [
    "#### Function to find list of PDF file in the folder"
   ]
  },
  {
   "cell_type": "code",
   "execution_count": 57,
   "id": "f4e4a047",
   "metadata": {},
   "outputs": [],
   "source": [
    "def pdf_list(dst,extension='pdf'):\n",
    "    \"\"\" returns the list of files with any extension from a folder\"\"\"\n",
    "    pdf_file_list = glob.glob(f'{dst}/*.{extension}')\n",
    "    return pdf_file_list\n"
   ]
  },
  {
   "cell_type": "code",
   "execution_count": 9,
   "id": "f975411f",
   "metadata": {},
   "outputs": [],
   "source": [
    "def dataExtraction(pattern, pdftext):\n",
    "    \"\"\"using regex extarcting data from the pdf file \"\"\"\n",
    "\n",
    "    pattern_data = re.findall(pattern, pdftext)\n",
    "    try:\n",
    "        pattern_data = pattern_data[0]\n",
    "    except Exception as e:\n",
    "        pattern_data = \"NA\"\n",
    "        print(\"error\", str(e))\n",
    "        pass\n",
    "    return pattern_data\n"
   ]
  },
  {
   "cell_type": "markdown",
   "id": "72f4c9c9",
   "metadata": {},
   "source": [
    "### data extract to a CSV "
   ]
  },
  {
   "cell_type": "code",
   "execution_count": 16,
   "id": "ea1aba05",
   "metadata": {},
   "outputs": [],
   "source": [
    "def data_to_csv(pdf_file_list):\n",
    "\n",
    "    for a in pdf_file_list:\n",
    "\n",
    "        tender_no = a.split('\\\\')[1].replace('.pdf', '')\n",
    "        df = tabula.read_pdf(a, pages=\"1\", stream=True)\n",
    "        pdftext = str(extract_text(a))\n",
    "        \n",
    "        date_pattern = 'Dated: (\\d{2}-\\d{2}-\\d{4})'\n",
    "        tender_date = dataExtraction(date_pattern, pdftext)\n",
    "\n",
    "        place_pattern = 'AddressQuantityDelivery Days1(.*?)Buyer'\n",
    "        place = dataExtraction(place_pattern, pdftext)\n",
    "\n",
    "        Emd_pattern = 'DocumentEMD DetailRequired([a-zA-Z]*)'\n",
    "        Emd = dataExtraction(Emd_pattern, pdftext)\n",
    "\n",
    "        ePBG_pattern = 'ePBG DetailRequired([a-zA-Z]*)'\n",
    "        ePBG = dataExtraction(ePBG_pattern, pdftext)\n",
    "\n",
    "        place1_pattern = 'Delivery Days1\\**([\\w][\\D]*)'\n",
    "        place1 = dataExtraction(place1_pattern, pdftext)\n",
    "\n",
    "        try:\n",
    "            mseindex = df[0][df[0]['Unnamed: 0'].str.contains(\n",
    "                'MSE', regex=False, case=False, na=False)].index.tolist()\n",
    "            msevalue = df[0]['Bid Details'][mseindex[0]+1]\n",
    "        except Exception as e:\n",
    "            msevalue = 'No'\n",
    "            print(\"error\", str(e))\n",
    "            pass\n",
    "        new_df = [[\n",
    "            tender_no, tender_date, place, place1, ePBG, Emd,\n",
    "            df[0]['Bid Details'][0],  # Bid End\n",
    "            df[0]['Bid Details'][1],  # Bid Open\n",
    "            df[0]['Bid Details'][4],  # Ministry Name\n",
    "            df[0]['Bid Details'][5],  # Department Name\n",
    "            df[0]['Bid Details'][6],  # Oranization name\n",
    "            df[0]['Bid Details'][7],  # Office Name\n",
    "            df[0]['Bid Details'][8],  # Total Qunatity\n",
    "            df[0]['Bid Details'][9],  # Item Category\n",
    "            msevalue\n",
    "\n",
    "        ]]\n",
    "        columns = ['tender_no', 'Date', 'place_of_supply', 'place1',\n",
    "                   'ePBG', 'Emd', 'Bid End Date/Time',\n",
    "                   'Bid Opening Date/Time',\n",
    "                   'Ministry Name', 'Department Name',\n",
    "                   'Organisation Name', 'office Name',\n",
    "                   'Total Quantity', 'Item Category', 'MSE Exemption']\n",
    "\n",
    "        new_df = pd.DataFrame(new_df, columns=columns)\n",
    "\n",
    "        if os.path.isfile(\"D:\\\\Gem1\\\\gem1.csv\"):\n",
    "            new_df.to_csv(\"D:\\\\Gem1\\\\gem1.csv\", index=False,\n",
    "                          header=False, mode='a')\n",
    "        else:\n",
    "            new_df.to_csv(\"D:\\\\Gem1\\\\gem1.csv\", index=False)\n",
    "    return new_df\n"
   ]
  },
  {
   "cell_type": "code",
   "execution_count": 45,
   "id": "c88c64ae",
   "metadata": {},
   "outputs": [],
   "source": [
    "def tenderNum(file):\n",
    "    \n",
    "    tender_no = file.split('\\\\')[1].replace('.pdf', '')\n",
    "    return tender_no"
   ]
  },
  {
   "cell_type": "code",
   "execution_count": 39,
   "id": "a01ff098",
   "metadata": {},
   "outputs": [],
   "source": [
    "def tenderFolder(file,src):           \n",
    "    tender_no = tenderNum(file)\n",
    "    directory = tender_no\n",
    "    folder_location = os.path.join(src, directory)\n",
    "    if not os.path.exists(folder_location):\n",
    "        os.mkdir(folder_location)\n",
    "    yield folder_location\n"
   ]
  },
  {
   "cell_type": "markdown",
   "id": "cc27301e",
   "metadata": {},
   "source": [
    "### download link file from pdf list"
   ]
  },
  {
   "cell_type": "code",
   "execution_count": 48,
   "id": "54505329",
   "metadata": {},
   "outputs": [],
   "source": [
    "def link_download(pdf_file_list):\n",
    "    urls = []        \n",
    "    for file in pdf_file_list:\n",
    "        tender_no = tenderNum(file)\n",
    "        folder_location=next(tenderFolder(file))\n",
    "        pdf_file = pikepdf.Pdf.open(file)\n",
    "        for page in pdf_file.pages:\n",
    "            for annots in page.get(\"/Annots\"):\n",
    "                try:\n",
    "                    uri = annots.get(\"/A\").get(\"/URI\")\n",
    "                    urls.append(uri)\n",
    "                except Exception as e:\n",
    "                    print(\"error\", str(e))\n",
    "                    pass\n",
    "                if uri is not None:\n",
    "                    #print(\"[+] URL founs\",uri)\n",
    "                    # print(str(uri))\n",
    "                    # do not download the file with terms and conditions\n",
    "                    if str(uri).endswith(\"termsCondition\"):\n",
    "                        pass\n",
    "                    else:\n",
    "                        # Download the CSV, PDF, WOrd or excel file\n",
    "                        if str(uri).endswith(\".pdf\") or str(uri).endswith(\".csv\") or str(uri).endswith(\".docx\") or str(uri).endswith(\".xlsx\"):\n",
    "                            filename = os.path.join(\n",
    "                                folder_location, str(uri).split(\"/\")[-1])\n",
    "                            r = requests.get(str(uri), stream=True)\n",
    "                            print(\"Saving to\", filename)\n",
    "                            with open(filename, 'wb') as f:\n",
    "                                f.write(r.content)\n",
    "\n",
    "                        else:\n",
    "                            try:\n",
    "                                # Download the table directly from website\n",
    "                                html = requests.get(str(uri))\n",
    "                                soup = BeautifulSoup(html.text, 'lxml')\n",
    "                                tables = soup.find_all('table')\n",
    "                                df = pd.read_html(str(tables[0]))[0]\n",
    "                                folder = f'D:\\\\Gem\\\\{tender_no}\\\\'\n",
    "                                df.to_csv(f\"{folder}\\\\{tender_no}.csv\")\n",
    "                            except Exception as e:\n",
    "                                print(\"error\", str(e))\n",
    "                                pass\n",
    "\n",
    "        pdf_file.close()\n",
    "    return urls\n"
   ]
  },
  {
   "cell_type": "markdown",
   "id": "4bff7007",
   "metadata": {},
   "source": [
    "### download only link file from pdf list"
   ]
  },
  {
   "cell_type": "code",
   "execution_count": 43,
   "id": "e3f4acb6",
   "metadata": {},
   "outputs": [],
   "source": [
    "def linkOnlyDownloader(pdf_file_list):\n",
    "    urls = []\n",
    "    for file in pdf_file_list:\n",
    "        tender_no = tenderNum(file)\n",
    "        #folder_location=next(tenderFolder(file))\n",
    "        pdf_file = pikepdf.Pdf.open(file)\n",
    "        \n",
    "        for page in pdf_file.pages:\n",
    "            for annots in page.get(\"/Annots\"):\n",
    "                try:\n",
    "                    uri = annots.get(\"/A\").get(\"/URI\")\n",
    "                except Exception as e:\n",
    "                    print(\"error\", str(e))\n",
    "                    pass\n",
    "\n",
    "                if uri is not None:\n",
    "                    #print(\"[+] URL founs\",uri)\n",
    "                    # print(str(uri))\n",
    "                    # do not download the file with terms and conditions\n",
    "                    new_df = [[tender_no, str(uri)]]\n",
    "                    columns = ['tender_no', 'link']\n",
    "                    new_df = pd.DataFrame(new_df, columns=columns)\n",
    "                    if os.path.isfile(\"D:\\\\Gem1\\\\link.csv\"):\n",
    "                        new_df.to_csv(\"D:\\\\Gem1\\\\link.csv\",\n",
    "                                      index=False, header=False, mode='a')\n",
    "                    else:\n",
    "                        new_df.to_csv(\"D:\\\\Gem1\\\\link.csv\", index=False)\n",
    "\n",
    "        pdf_file.close()\n",
    "    return urls\n"
   ]
  },
  {
   "cell_type": "markdown",
   "id": "86804359",
   "metadata": {},
   "source": [
    "### move the tenderfile to it own folders"
   ]
  },
  {
   "cell_type": "code",
   "execution_count": 23,
   "id": "bdc5e32c",
   "metadata": {},
   "outputs": [],
   "source": [
    "def move_pdf_file(pdflist):\n",
    "    for file in pdflist:\n",
    "        source = file\n",
    "        tender_no = file.split('\\\\')[1].replace('.pdf', '')\n",
    "\n",
    "        # Destination path\n",
    "        destination = f\"D:\\\\Gem2\\\\{tender_no}\"\n",
    "\n",
    "        # Move the content of\n",
    "        # source to destination\n",
    "        dest = shutil.move(source, destination)\n",
    "\n",
    "        # print(dest) prints the\n",
    "        # Destination of moved directory\n",
    "    return (print(\"files moved\"))\n"
   ]
  },
  {
   "cell_type": "markdown",
   "id": "09303c53",
   "metadata": {},
   "source": [
    "### final script to run"
   ]
  },
  {
   "cell_type": "code",
   "execution_count": null,
   "id": "e680fa81",
   "metadata": {},
   "outputs": [],
   "source": [
    "src = \"C:/Users/Admin/Downloads\"\n",
    "dst = \"D:/Gem1/\"\n",
    "items = mylist\n",
    "url = 'https://bidplus.gem.gov.in/custom-item'\n",
    "itemwise_download(url, items, src)\n",
    "pdf_file_list = pdf_list(dst)\n",
    "data_to_csv(pdf_file_list)\n",
    "link_download(pdf_file_list)\n",
    "move_pdf_file(pdf_file_list)\n"
   ]
  },
  {
   "cell_type": "markdown",
   "id": "3a362bab",
   "metadata": {},
   "source": [
    "## Testing"
   ]
  },
  {
   "cell_type": "code",
   "execution_count": 22,
   "id": "19cad71b",
   "metadata": {},
   "outputs": [
    {
     "name": "stdout",
     "output_type": "stream",
     "text": [
      "files moved\n"
     ]
    }
   ],
   "source": [
    "dst = \"D:/Gem1/\"\n",
    "pdf_file_list = pdf_list(dst)\n",
    "move_pdf_file(pdf_file_list)\n"
   ]
  },
  {
   "cell_type": "code",
   "execution_count": 24,
   "id": "472ff839",
   "metadata": {},
   "outputs": [],
   "source": [
    "src = \"C:/Users/Admin/Downloads\"\n",
    "dst = \"D:/Gem1/\"\n",
    "items = mylist\n",
    "pdf_file_list = pdf_list(dst)\n"
   ]
  },
  {
   "cell_type": "code",
   "execution_count": null,
   "id": "28960c4c",
   "metadata": {},
   "outputs": [],
   "source": []
  }
 ],
 "metadata": {
  "kernelspec": {
   "display_name": "Python 3.10.0 64-bit",
   "language": "python",
   "name": "python3"
  },
  "language_info": {
   "codemirror_mode": {
    "name": "ipython",
    "version": 3
   },
   "file_extension": ".py",
   "mimetype": "text/x-python",
   "name": "python",
   "nbconvert_exporter": "python",
   "pygments_lexer": "ipython3",
   "version": "3.10.0"
  },
  "vscode": {
   "interpreter": {
    "hash": "a42ccb73e7d9bfdf27e036f1d2b8b681e55fc0743cc5586bc2474d4a60f4b886"
   }
  }
 },
 "nbformat": 4,
 "nbformat_minor": 5
}
