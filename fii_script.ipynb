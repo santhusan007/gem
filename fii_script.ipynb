{
 "cells": [
  {
   "cell_type": "code",
   "execution_count": 2,
   "id": "aca0098f",
   "metadata": {},
   "outputs": [],
   "source": [
    "import requests\n",
    "import pandas as pd\n",
    "from bs4 import BeautifulSoup\n",
    "import os\n",
    "from urllib.parse import urljoin\n",
    "import datetime as dt"
   ]
  },
  {
   "cell_type": "code",
   "execution_count": 1,
   "id": "56b8fe3f",
   "metadata": {},
   "outputs": [],
   "source": [
    "\n",
    "\n",
    "# LIst of all days until today\n",
    "days=pd.date_range(start=\"2021-01-01\",end=dt.datetime.today()).to_pydatetime().tolist\n",
    "days_2021=[day.strftime('%Y/%m/%d') for day in days()]\n",
    "#print(days_2021)\n",
    "\n",
    "def allsun(year):\n",
    "    return pd.date_range(start=str(year),end=str(year+1),freq='W-SUN')\n",
    "\n",
    "def allsat(year):\n",
    "    return pd.date_range(start=str(year),end=str(year+1),freq='W-SAT')\n",
    "\n",
    "holiday_list=['2021/01/26','2021/03/11','2021/03/29','2021/04/02','2021/04/14','2021/04/21',\n",
    "'2021/05/13','2021/07/21','2021/08/19','2021/09/10','2021/10/15','2021/11/05','2021/11/19']\n",
    "\n",
    "sun=allsun(2021)\n",
    "sat=allsat(2021)\n",
    "sun_2022=allsun(2022)\n",
    "sat_2022=allsat(2022)\n",
    "sunday= [day.strftime('%Y/%m/%d') for day in sun]\n",
    "saturday=[day.strftime('%Y/%m/%d') for day in sat]\n",
    "sun2022= [day.strftime('%Y/%m/%d') for day in sun_2022]\n",
    "sat2022= [day.strftime('%Y/%m/%d') for day in sat_2022]\n",
    "weekend=sunday+saturday+sun2022+sat2022\n",
    "tot_holiday=weekend+holiday_list\n",
    "\n",
    "working_day=[day for day in days_2021 if day not in tot_holiday]\n",
    "\n",
    "nse_url=[]\n",
    "for date in working_day:\n",
    "    \n",
    "    add_date=date[8:10]+date[5:7]+date[0:4]\n",
    "    nse_url.append(f'https://archives.nseindia.com/content/nsccl/fao_participant_oi_{add_date}.csv')\n"
   ]
  },
  {
   "cell_type": "code",
   "execution_count": 4,
   "id": "57691558",
   "metadata": {},
   "outputs": [
    {
     "data": {
      "text/plain": [
       "['https://archives.nseindia.com/content/nsccl/fao_participant_oi_07012022.csv']"
      ]
     },
     "execution_count": 4,
     "metadata": {},
     "output_type": "execute_result"
    }
   ],
   "source": [
    "nse_url[-1:]"
   ]
  },
  {
   "cell_type": "code",
   "execution_count": null,
   "id": "e45bf180",
   "metadata": {},
   "outputs": [],
   "source": []
  },
  {
   "cell_type": "code",
   "execution_count": 5,
   "id": "ce0f7679",
   "metadata": {},
   "outputs": [
    {
     "name": "stdout",
     "output_type": "stream",
     "text": [
      "0"
     ]
    }
   ],
   "source": [
    "folder_location=r'C:\\Users\\Admin\\Desktop\\Python\\Pandas\\Stock\\NSE\\FII' # can be any folder\n",
    "if not os.path.exists (folder_location):\n",
    "    os.mkdir(folder_location)\n",
    "    \n",
    "\n",
    "for i,link in enumerate(nse_url[-1:]):\n",
    "    filename=os.path.join(folder_location,link.split(\"/\")[-1])\n",
    "    r=requests.get(link,stream=True)\n",
    "    print(i,end='')\n",
    "    with open (filename,'wb') as f:\n",
    "        f.write(r.content)  \n"
   ]
  },
  {
   "cell_type": "code",
   "execution_count": null,
   "id": "884cce88",
   "metadata": {},
   "outputs": [],
   "source": [
    "for date in working_day:\n",
    "    \n",
    "    add_date=date[8:10]+date[5:7]+date[0:4]\n",
    "    nse_url.append(f'https://archives.nseindia.com/content/nsccl/fao_participant_oi_{add_date}.csv')"
   ]
  },
  {
   "cell_type": "code",
   "execution_count": null,
   "id": "cad52a39",
   "metadata": {},
   "outputs": [],
   "source": [
    "https://archives.nseindia.com/content/fo/fii_stats_06-Jan-2022.xls"
   ]
  },
  {
   "cell_type": "markdown",
   "id": "91b50ecc",
   "metadata": {},
   "source": [
    "## Script to downl;oad FII buy figure from NSE website"
   ]
  },
  {
   "cell_type": "code",
   "execution_count": 6,
   "id": "01a84e4c",
   "metadata": {},
   "outputs": [
    {
     "name": "stdout",
     "output_type": "stream",
     "text": [
      "0"
     ]
    }
   ],
   "source": [
    "from datetime import datetime\n",
    "fii_url=[]\n",
    "for date in working_day:\n",
    "    month=datetime.strptime(date, '%Y/%m/%d').strftime(\"%b\")\n",
    "    year=date[0:4]\n",
    "    day=date[8:10]\n",
    "    fii_url.append(f'https://archives.nseindia.com/content/fo/fii_stats_{day}-{month}-{year}.xls')\n",
    "    \n",
    "folder_location=r'C:\\Users\\Admin\\Desktop\\Python\\Pandas\\Stock\\NSE\\FII_AMOUNT' # can be any folder\n",
    "if not os.path.exists (folder_location):\n",
    "    os.mkdir(folder_location)\n",
    "    \n",
    "\n",
    "for i,link in enumerate(fii_url[-1:]):\n",
    "    filename=os.path.join(folder_location,link.split(\"/\")[-1])\n",
    "    r=requests.get(link,stream=True)\n",
    "    print(i,end='')\n",
    "    with open (filename,'wb') as f:\n",
    "        f.write(r.content)         \n",
    "     "
   ]
  },
  {
   "cell_type": "code",
   "execution_count": null,
   "id": "479ad93f",
   "metadata": {},
   "outputs": [],
   "source": [
    "fii_url"
   ]
  },
  {
   "cell_type": "code",
   "execution_count": null,
   "id": "829ebd75",
   "metadata": {},
   "outputs": [],
   "source": [
    "date = dt.strptime(date_string, '%Y-%m-%d')"
   ]
  },
  {
   "cell_type": "code",
   "execution_count": null,
   "id": "bae5064e",
   "metadata": {},
   "outputs": [],
   "source": [
    "https://archives.nseindia.com/content/fo/fii_stats_06-Jan-2022.xls"
   ]
  },
  {
   "cell_type": "code",
   "execution_count": 4,
   "id": "522bb29c",
   "metadata": {},
   "outputs": [],
   "source": [
    "fii_dii='https://www.nseindia.com/reports/fii-dii'"
   ]
  },
  {
   "cell_type": "code",
   "execution_count": null,
   "id": "1c06d3dd",
   "metadata": {},
   "outputs": [],
   "source": [
    "r=requests.get(fii_dii)"
   ]
  },
  {
   "cell_type": "code",
   "execution_count": null,
   "id": "29e324ee",
   "metadata": {},
   "outputs": [],
   "source": []
  },
  {
   "cell_type": "code",
   "execution_count": null,
   "id": "9e5d9537",
   "metadata": {},
   "outputs": [],
   "source": []
  }
 ],
 "metadata": {
  "kernelspec": {
   "display_name": "Python 3 (ipykernel)",
   "language": "python",
   "name": "python3"
  },
  "language_info": {
   "codemirror_mode": {
    "name": "ipython",
    "version": 3
   },
   "file_extension": ".py",
   "mimetype": "text/x-python",
   "name": "python",
   "nbconvert_exporter": "python",
   "pygments_lexer": "ipython3",
   "version": "3.8.8"
  }
 },
 "nbformat": 4,
 "nbformat_minor": 5
}
