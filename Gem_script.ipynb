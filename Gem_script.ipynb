{
 "cells": [
  {
   "cell_type": "code",
   "execution_count": 1,
   "id": "e28abe5c",
   "metadata": {},
   "outputs": [],
   "source": [
    "import requests\n",
    "import pandas as pd\n",
    "from bs4 import BeautifulSoup\n",
    "import time\n",
    "from selenium import webdriver\n",
    "from selenium.webdriver.edge.service import Service\n",
    "from selenium.webdriver.common.keys import Keys\n",
    "from selenium.webdriver.common.by import By\n",
    "import os\n",
    "from os import path\n",
    "import shutil\n",
    "import tabula\n",
    "import glob\n",
    "import pikepdf\n",
    "from pdfminer.converter import TextConverter\n",
    "from pdfminer.pdfinterp import PDFPageInterpreter\n",
    "from pdfminer.pdfinterp import PDFResourceManager\n",
    "from pdfminer.pdfpage import PDFPage\n",
    "import io\n",
    "import re"
   ]
  },
  {
   "cell_type": "markdown",
   "id": "5e0ca567",
   "metadata": {},
   "source": [
    "## Script to find the newst file in the folder"
   ]
  },
  {
   "cell_type": "code",
   "execution_count": 8,
   "id": "cf4c8b28",
   "metadata": {},
   "outputs": [],
   "source": [
    "src = \"C:\\\\Users\\\\Admin\\\\Downloads\"\n",
    "dst = \"D:\\\\Gem1\"\n",
    "def latest_download_file():\n",
    "      path = src\n",
    "      os.chdir(path)\n",
    "      files = sorted(os.listdir(os.getcwd()), key=os.path.getmtime)\n",
    "      newest = files[-1]\n",
    "\n",
    "      return newest"
   ]
  },
  {
   "cell_type": "markdown",
   "id": "9888ddb1",
   "metadata": {},
   "source": [
    "## Script to download the file from GEM website and rename it to tender number"
   ]
  },
  {
   "cell_type": "code",
   "execution_count": 4,
   "id": "1981cb5c",
   "metadata": {},
   "outputs": [],
   "source": [
    "ser=Service(executable_path='C:\\\\edgedriver_win64\\\\msedgedriver.exe')\n",
    "driver=webdriver.Edge(service=ser)\n",
    "driver.maximize_window()\n",
    "driver.get(\"https://bidplus.gem.gov.in/bidlists?bidlists\")\n",
    "file=''\n",
    "i=1\n",
    "while i<2:\n",
    "    if i==1:\n",
    "        driver.find_element(By.XPATH,'//*[@id=\"pagination\"]/ul/li/ul/li[2]/a').click()\n",
    "        \n",
    "\n",
    "        for j in range(1,10):\n",
    "            # Extracting the text from the link element\n",
    "            link=driver.find_element(By.XPATH,f'//*[@id=\"pagi_content\"]/div[{j}]/div[1]/p[1]/a').text\n",
    "            link=link.replace(\"/\",\"\")\n",
    "            link=f'{link}.pdf'\n",
    "            # click on the link and download the file to destination.\n",
    "            driver.find_element(By.XPATH,f'//*[@id=\"pagi_content\"]/div[{j}]/div[1]/p[1]/a').click()\n",
    "            \n",
    "            time.sleep(3) \n",
    "            #identifying the latest downloaded file in source directory\n",
    "            file=latest_download_file()\n",
    "            # renaming the file with tender no which got from link text\n",
    "            if file.startswith(\"GeM\") and path.isfile(path.join(src, file)):\n",
    "                os.rename(file,link)\n",
    "        i=i+1\n",
    "                \n",
    "    else:\n",
    "        time.sleep(3)\n",
    "        driver.find_element(By.XPATH,'//*[@id=\"pagination\"]/ul/li/ul/li[5]/a').click()\n",
    "            \n",
    "        for x in range(1,10):\n",
    "                \n",
    "                time.sleep(3)\n",
    "                link=driver.find_element(By.XPATH,f'//*[@id=\"pagi_content\"]/div[{x}]/div[1]/p[1]/a').text\n",
    "                link=link.replace(\"/\",\"\")\n",
    "                link=f'{link}.pdf'\n",
    "                driver.find_element(By.XPATH,f'//*[@id=\"pagi_content\"]/div[{x}]/div[1]/p[1]/a').click()\n",
    "                time.sleep(3) \n",
    "\n",
    "                file=latest_download_file()\n",
    "                try:\n",
    "                    if file.startswith(\"GeM\") and path.isfile(path.join(src, file)):\n",
    "                        os.rename(file,link) \n",
    "                except:\n",
    "                    pass\n",
    "        i=i+1"
   ]
  },
  {
   "cell_type": "markdown",
   "id": "edf4518d",
   "metadata": {},
   "source": [
    "### Script to extract text using PDF miner"
   ]
  },
  {
   "cell_type": "code",
   "execution_count": 5,
   "id": "a97c85f9",
   "metadata": {},
   "outputs": [],
   "source": [
    "def extract_text_by_page(pdf_path):\n",
    "    with open(pdf_path, 'rb') as fh:\n",
    "        for page in PDFPage.get_pages(fh, \n",
    "                                      caching=True,\n",
    "                                      check_extractable=True):\n",
    "            resource_manager = PDFResourceManager()\n",
    "            fake_file_handle = io.StringIO()\n",
    "            converter = TextConverter(resource_manager, fake_file_handle)\n",
    "            page_interpreter = PDFPageInterpreter(resource_manager, converter)\n",
    "            page_interpreter.process_page(page)\n",
    "            \n",
    "            text = fake_file_handle.getvalue()\n",
    "            yield text\n",
    "    \n",
    "            # close open handles\n",
    "            converter.close()\n",
    "            fake_file_handle.close()\n",
    "    \n",
    "def extract_text(pdf_path):\n",
    "    tot = {}\n",
    "    for i, page in enumerate(extract_text_by_page(pdf_path)):\n",
    "        tot.update({i+1 : page})\n",
    "    return tot"
   ]
  },
  {
   "cell_type": "code",
   "execution_count": null,
   "id": "2afd7fcf",
   "metadata": {},
   "outputs": [],
   "source": []
  },
  {
   "cell_type": "code",
   "execution_count": null,
   "id": "5a349585",
   "metadata": {},
   "outputs": [],
   "source": []
  },
  {
   "cell_type": "code",
   "execution_count": 6,
   "id": "0decc313",
   "metadata": {},
   "outputs": [],
   "source": [
    "files = [i for i in os.listdir(src) if i.startswith(\"GEM\") and path.isfile(path.join(src, i))]\n",
    "for f in files:\n",
    "    shutil.move(path.join(src, f), dst)"
   ]
  },
  {
   "cell_type": "code",
   "execution_count": 22,
   "id": "a77760f3",
   "metadata": {},
   "outputs": [],
   "source": [
    "src='D:/Gem1/'"
   ]
  },
  {
   "cell_type": "code",
   "execution_count": 9,
   "id": "f4496b5a",
   "metadata": {},
   "outputs": [],
   "source": [
    "import re"
   ]
  },
  {
   "cell_type": "code",
   "execution_count": 28,
   "id": "5d7d9f04",
   "metadata": {},
   "outputs": [],
   "source": [
    "pdf_file_list=glob.glob(r'D:/Gem1/*.pdf')"
   ]
  },
  {
   "cell_type": "code",
   "execution_count": 29,
   "id": "d6c252c9",
   "metadata": {},
   "outputs": [
    {
     "data": {
      "text/plain": [
       "['D:/Gem1\\\\GEM2022B1994279.pdf', 'D:/Gem1\\\\GEM2022B2005585.pdf']"
      ]
     },
     "execution_count": 29,
     "metadata": {},
     "output_type": "execute_result"
    }
   ],
   "source": [
    "pdf_file_list"
   ]
  },
  {
   "cell_type": "code",
   "execution_count": 12,
   "id": "728e9ee1",
   "metadata": {},
   "outputs": [],
   "source": [
    "for a in pdf_file_list:\n",
    "    \n",
    "    tender_file_name=a.split('\\\\')[1].replace('.pdf','')\n",
    "    df = tabula.read_pdf(a, pages=\"1\", stream=True)\n",
    "    pdftext=extract_text(a)\n",
    "    pattern='Dated: (\\d{2}-\\d{2}-\\d{4})'\n",
    "    tender_pattern='Bid Number:(\\s\\S*\\d)'\n",
    "    tender_date=re.findall(pattern, pdftext[1])\n",
    "    tender_date=tender_date[0]\n",
    "    tender_no=re.findall(tender_pattern, pdftext[1])[0].strip()\n",
    "    \n",
    "    \n",
    "    \n",
    "    try:\n",
    "        for i in range (1,len(pdftext)+1):\n",
    "            pattern3='DocumentEMD DetailRequired([a-zA-Z]*)'\n",
    "            Emd=re.findall(pattern3,pdftext[i])\n",
    "            if (len(Emd))>0:\n",
    "                Emd=Emd[0]\n",
    "                break\n",
    "    except:\n",
    "            Emd=\"NA\"\n",
    "        \n",
    "        \n",
    "    try:\n",
    "        for i in range (1,len(pdftext)+1):\n",
    "            pattern2='ePBG DetailRequired([a-zA-Z]*)'\n",
    "            ePBG=re.findall(pattern2,pdftext[i])\n",
    "            if (len(ePBG))>0:\n",
    "                ePBG=ePBG[0]\n",
    "                break\n",
    "    except:\n",
    "            ePBG=\"NA\"\n",
    "            \n",
    "    try:    \n",
    "        for i in range (1,len(pdftext)+1):    \n",
    "            pattern1='Delivery Days1\\**([\\w][\\D]*)'\n",
    "            place=re.findall(pattern1,pdftext[i])\n",
    "            if (len(place))>0:\n",
    "                place=place[0]\n",
    "                break\n",
    "    except:\n",
    "            place=\"NA\"\n",
    "        \n",
    "    \n",
    "    try:\n",
    "        mseindex=df[0][df[0]['Unnamed: 0'].str.contains('MSE', regex=False, case=False, na=False)].index.tolist()\n",
    "        msevalue=df[0]['Bid Details'][mseindex[0]+1]\n",
    "    except:\n",
    "        msevalue='No'\n",
    "        \n",
    "    new_df=[[            \n",
    "            tende_no,tender_file_name,tender_date,place,ePBG,Emd,df[0]['Bid Details'][0],\n",
    "            df[0]['Bid Details'][1],df[0]['Bid Details'][2],df[0]['Bid Details'][3],\n",
    "         df[0]['Bid Details'][4],df[0]['Bid Details'][5],df[0]['Bid Details'][6],\n",
    "        \n",
    "         df[0]['Bid Details'][8],df[0]['Bid Details'][9],\n",
    "         msevalue\n",
    "  \n",
    "       ]]\n",
    "    columns=['tender_no','tender_file_name','Date','place_of_supply','ePBG','Emd','Bid End Date/Time','Bid Opening Date/Time','Bid Life Cycle (From Publish Date)','Bid Offer Validity (From End Date)',\n",
    "        'Department Name','Organisation Name','office Name','Total Quantity','Item Category','MSE Exemption']\n",
    "    new_df=pd.DataFrame(new_df,columns=columns)\n",
    "    \n",
    "    if os.path.isfile(\"D:\\\\Gem1\\\\gem1.csv\"):        \n",
    "            new_df.to_csv(\"D:\\\\Gem1\\\\gem1.csv\",index=False,header=False,mode='a')            \n",
    "    else:\n",
    "             new_df.to_csv(\"D:\\\\Gem1\\\\gem1.csv\",index=False)"
   ]
  },
  {
   "cell_type": "markdown",
   "id": "c736eb26",
   "metadata": {},
   "source": [
    "## Downloading files from each tender"
   ]
  },
  {
   "cell_type": "code",
   "execution_count": 2,
   "id": "7f0a0dde",
   "metadata": {
    "scrolled": true
   },
   "outputs": [
    {
     "ename": "NameError",
     "evalue": "name 'pdf_file_list' is not defined",
     "output_type": "error",
     "traceback": [
      "\u001b[1;31m---------------------------------------------------------------------------\u001b[0m",
      "\u001b[1;31mNameError\u001b[0m                                 Traceback (most recent call last)",
      "\u001b[1;32m~\\AppData\\Local\\Temp/ipykernel_2668/1054630464.py\u001b[0m in \u001b[0;36m<module>\u001b[1;34m\u001b[0m\n\u001b[0;32m      1\u001b[0m \u001b[0murls\u001b[0m\u001b[1;33m=\u001b[0m\u001b[1;33m[\u001b[0m\u001b[1;33m]\u001b[0m\u001b[1;33m\u001b[0m\u001b[1;33m\u001b[0m\u001b[0m\n\u001b[1;32m----> 2\u001b[1;33m \u001b[1;32mfor\u001b[0m \u001b[0mfile\u001b[0m \u001b[1;32min\u001b[0m \u001b[0mpdf_file_list\u001b[0m\u001b[1;33m:\u001b[0m\u001b[1;33m\u001b[0m\u001b[1;33m\u001b[0m\u001b[0m\n\u001b[0m\u001b[0;32m      3\u001b[0m     \u001b[0mprint\u001b[0m\u001b[1;33m(\u001b[0m\u001b[0mfile\u001b[0m\u001b[1;33m)\u001b[0m\u001b[1;33m\u001b[0m\u001b[1;33m\u001b[0m\u001b[0m\n\u001b[0;32m      4\u001b[0m     \u001b[0mpdf_file\u001b[0m\u001b[1;33m=\u001b[0m\u001b[0mpikepdf\u001b[0m\u001b[1;33m.\u001b[0m\u001b[0mPdf\u001b[0m\u001b[1;33m.\u001b[0m\u001b[0mopen\u001b[0m\u001b[1;33m(\u001b[0m\u001b[0mfile\u001b[0m\u001b[1;33m)\u001b[0m\u001b[1;33m\u001b[0m\u001b[1;33m\u001b[0m\u001b[0m\n\u001b[0;32m      5\u001b[0m     \u001b[0mtender_no\u001b[0m\u001b[1;33m=\u001b[0m\u001b[0mfile\u001b[0m\u001b[1;33m.\u001b[0m\u001b[0msplit\u001b[0m\u001b[1;33m(\u001b[0m\u001b[1;34m'\\\\'\u001b[0m\u001b[1;33m)\u001b[0m\u001b[1;33m[\u001b[0m\u001b[1;36m1\u001b[0m\u001b[1;33m]\u001b[0m\u001b[1;33m.\u001b[0m\u001b[0mreplace\u001b[0m\u001b[1;33m(\u001b[0m\u001b[1;34m'.pdf'\u001b[0m\u001b[1;33m,\u001b[0m\u001b[1;34m''\u001b[0m\u001b[1;33m)\u001b[0m\u001b[1;33m\u001b[0m\u001b[1;33m\u001b[0m\u001b[0m\n",
      "\u001b[1;31mNameError\u001b[0m: name 'pdf_file_list' is not defined"
     ]
    }
   ],
   "source": [
    "\n",
    "urls=[]\n",
    "for file in pdf_file_list:\n",
    "    print(file)\n",
    "    pdf_file=pikepdf.Pdf.open(file)\n",
    "    tender_no=file.split('\\\\')[1].replace('.pdf','')\n",
    "    directory = tender_no\n",
    "    parent_dir = r\"D:\\\\Gem1\"\n",
    "    folder_location = os.path.join(parent_dir, directory)\n",
    "    if not os.path.exists (folder_location):\n",
    "        os.mkdir(folder_location)\n",
    "    file.close()\n",
    "    for page in pdf_file.pages:\n",
    "        for annots in page.get(\"/Annots\"):\n",
    "            try:\n",
    "                uri=annots.get(\"/A\").get(\"/URI\")\n",
    "            except:\n",
    "                pass\n",
    "            if uri is not None:\n",
    "                #print(\"[+] URL founs\",uri)\n",
    "                #print(str(uri))\n",
    "                # do not download the file with terms and conditions\n",
    "                if str(uri).endswith(\"termsCondition\"):\n",
    "                    pass\n",
    "                else:\n",
    "                    if str(uri).endswith(\".pdf\") or str(uri).endswith(\".csv\") or str(uri).endswith(\".docx\") or str(uri).endswith(\".xlsx\") :\n",
    "                        filename=os.path.join(folder_location,str(uri).split(\"/\")[-1])\n",
    "                        r=requests.get(str(uri),stream=True)\n",
    "                        print(\"Saving to\", filename)\n",
    "                        with open (filename,'wb') as f:\n",
    "                            f.write(r.content)\n",
    "                             \n",
    "                    else:\n",
    "                        try:\n",
    "                            # Download the table directly from website\n",
    "                            html=requests.get(str(uri))\n",
    "                            soup=BeautifulSoup(html.text, 'lxml')\n",
    "                            tables = soup.find_all('table')\n",
    "                            df= pd.read_html(str(tables[0]))[0]\n",
    "                            folder=f'D:\\\\Gem\\\\{tender_no}\\\\'\n",
    "                            df.to_csv(f\"{folder}\\\\{tender_no}.csv\")\n",
    "                        except:\n",
    "                            pass\n",
    "                        \n",
    "              "
   ]
  },
  {
   "cell_type": "markdown",
   "id": "3fe34680",
   "metadata": {},
   "source": [
    "### Moving Tender Files to folders"
   ]
  },
  {
   "cell_type": "code",
   "execution_count": null,
   "id": "addbf911",
   "metadata": {},
   "outputs": [],
   "source": [
    "pdf_file_list=glob.glob(r'D:/Gem1/*.pdf')\n",
    "for file in pdf_file_list:\n",
    "        source = file\n",
    "        tender_no=file.split('\\\\')[1].replace('.pdf','')\n",
    "  \n",
    "        # Destination path\n",
    "        destination = f\"D:\\\\Gem1\\\\{tender_no}\"\n",
    "  \n",
    "        # Move the content of\n",
    "        # source to destination\n",
    "        dest = shutil.move(source, destination)\n",
    "  \n",
    "        # print(dest) prints the \n",
    "        # Destination of moved directory"
   ]
  },
  {
   "cell_type": "code",
   "execution_count": null,
   "id": "5d643692",
   "metadata": {},
   "outputs": [],
   "source": []
  },
  {
   "cell_type": "code",
   "execution_count": null,
   "id": "86bd09cf",
   "metadata": {},
   "outputs": [],
   "source": []
  }
 ],
 "metadata": {
  "kernelspec": {
   "display_name": "Python 3 (ipykernel)",
   "language": "python",
   "name": "python3"
  },
  "language_info": {
   "codemirror_mode": {
    "name": "ipython",
    "version": 3
   },
   "file_extension": ".py",
   "mimetype": "text/x-python",
   "name": "python",
   "nbconvert_exporter": "python",
   "pygments_lexer": "ipython3",
   "version": "3.8.8"
  }
 },
 "nbformat": 4,
 "nbformat_minor": 5
}
